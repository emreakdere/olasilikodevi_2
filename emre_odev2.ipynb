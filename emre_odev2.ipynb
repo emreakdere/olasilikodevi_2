{
  "nbformat": 4,
  "nbformat_minor": 0,
  "metadata": {
    "colab": {
      "name": "emre_odev2.ipynb",
      "provenance": [],
      "authorship_tag": "ABX9TyNAic0gtZycO+u6ELOJbegY",
      "include_colab_link": true
    },
    "kernelspec": {
      "name": "python3",
      "display_name": "Python 3"
    }
  },
  "cells": [
    {
      "cell_type": "markdown",
      "metadata": {
        "id": "view-in-github",
        "colab_type": "text"
      },
      "source": [
        "<a href=\"https://colab.research.google.com/github/emrecanakdere/olasilikodevi_2/blob/master/emre_odev2.ipynb\" target=\"_parent\"><img src=\"https://colab.research.google.com/assets/colab-badge.svg\" alt=\"Open In Colab\"/></a>"
      ]
    },
    {
      "cell_type": "markdown",
      "metadata": {
        "id": "mgGcamXSzEgn",
        "colab_type": "text"
      },
      "source": [
        "367.990 kişilik İzmit nüfusunun, 3009'i doktordur. 75 kişinin katıldığı bir tiyatro gösterisinde hiç doktor olmama olasılığı nedir?"
      ]
    },
    {
      "cell_type": "markdown",
      "metadata": {
        "id": "afQKw_le0Mgf",
        "colab_type": "text"
      },
      "source": [
        "Çözüm:\n",
        "Toplam nüfus: 367.990\n",
        "Seçilen kişi sayısı: 75\n",
        "Doktor nüfusu: 3009\n",
        "\n",
        "P(B) = |E|/|S|\n",
        "\n",
        "|E| : Hiç doktor geleme olayı\n",
        " \n",
        "|S| : Koşulsuz tüm seçimler. Örnek Uzayı.\n",
        "\n",
        "|E| = (367990 - 3009)! / [(367990 - 3009)-75]! * 75!\n",
        "\n",
        "|S| = 367990! / (367990 -75)! * 75!\n"
      ]
    },
    {
      "cell_type": "code",
      "metadata": {
        "id": "owH_VO3v0x-y",
        "colab_type": "code",
        "outputId": "294dea05-647d-4254-ba5c-2c54f13f034d",
        "colab": {
          "base_uri": "https://localhost:8080/",
          "height": 84
        }
      },
      "source": [
        "def fakttoriyel(n,s=0): # klasik recursive factorial fonksiyonu, s bitirme koşulu\n",
        "    if (n == s):\n",
        "        return 1\n",
        "    else:\n",
        "        return n * fakttoriyel(n-1,s)\n",
        "\n",
        "def Kombinasyon(x,y):  # kombinasyon formülü x!/(x-y)!.y!\n",
        "  y=x-y\n",
        "  return fakttoriyel(x,y)/fakttoriyel(x-y)\n",
        "\n",
        "tN = 367990   # Toplam nüfus\n",
        "sN = 75       # Rastgele gelen izleyici\n",
        "dN = 3009     # Toplam doktor nüfusu\n",
        "\n",
        "CE = Kombinasyon((tN-dN),sN)    # Hiç doktor gelmeme olayı.\n",
        "CS = Kombinasyon(tN,sN)         # Rastgele seçme olayı. Örnek Uzay\n",
        "\n",
        "print(\"Hiç doktor gelmeme olayı:\",CE)\n",
        "print(\"Rastgele seçme olayı. Örnek Uzay:\",CS)\n",
        "\n",
        "PB = (CE/CS)*100\n",
        "print(\"\\nHiç doktor gelmeme olasılığı: %\" , format(PB, '.4f'))"
      ],
      "execution_count": 0,
      "outputs": [
        {
          "output_type": "stream",
          "text": [
            "Hiç doktor gelmeme olayı: 5.920458050921281e+307\n",
            "Rastgele seçme olayı. Örnek Uzay: 1.0960095352572618e+308\n",
            "\n",
            "Hiç doktor gelmeme olasılığı: % 54.0183\n"
          ],
          "name": "stdout"
        }
      ]
    }
  ]
}